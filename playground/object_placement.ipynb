{
 "cells": [
  {
   "cell_type": "code",
   "execution_count": 1,
   "metadata": {
    "collapsed": true
   },
   "outputs": [],
   "source": [
    "from os.path import join\n",
    "import libry as ry\n",
    "from IPython.core.display import display\n",
    "from ipywidgets import interact\n",
    "from ipywidgets import widgets\n",
    "\n",
    "from util.setup import setup_goal1\n",
    "pathRepo = '/home/nika/git/robotics-course'"
   ]
  },
  {
   "cell_type": "code",
   "execution_count": 2,
   "outputs": [],
   "source": [
    "C = ry.Config()\n",
    "C.addFile(join(pathRepo, \"scenarios/pandasTable.g\"))\n",
    "V = ry.ConfigurationViewer()\n",
    "cameraFrame = C.frame(\"camera\")\n",
    "\n",
    "q0 = C.getJointState()\n",
    "R_gripper = C.frame(\"R_gripper\")\n",
    "R_gripper.setContact(1)\n",
    "L_gripper = C.frame(\"L_gripper\")\n",
    "L_gripper.setContact(1)\n",
    "\n",
    "V.setConfiguration(C)"
   ],
   "metadata": {
    "collapsed": false,
    "pycharm": {
     "name": "#%%\n"
    }
   }
  },
  {
   "cell_type": "code",
   "execution_count": 3,
   "outputs": [],
   "source": [
    "\n",
    "\n",
    "obj1 = C.addFrame(\"obj1\")\n",
    "obj1.setColor([0, 0, 1])\n",
    "obj1.setShape(ry.ST.ssBox, [0.2, 0.15, 0.1, 0])\n",
    "obj1.setPosition([-.6, 0, .7])\n",
    "# obj1.setQuaternion([1,0,.5,0])\n",
    "\n",
    "V.setConfiguration(C)\n",
    "#V.setConfiguration(C)\n",
    "# @interact(x=(-1, 1, 0.1), y = (-1, 1, 0.1), z = (0, 1, 0.1))\n",
    "# def set_position(x, y, z):\n",
    "#    obj1.setPosition([x, y, z])\n",
    "#    V.setConfiguration(C)\n",
    "\n",
    "# x = widgets.IntSlider(min=0, max=1, step=0.1, value=1)\n",
    "# display(x)\n",
    "# y = widgets.IntSlider(min=0, max=1, step=0.1, value=1)\n",
    "# z = widgets.IntSlider(min=0, max=1, step=0.1, value=1)\n",
    "# w = widgets.IntSlider(min=0, max=1, step=0.1, value=1)\n",
    "\n",
    "# @interact(x =1, y=1, z=1, w=1)\n",
    "# def set_orientation(x, y, z, w):\n",
    "#    obj1.setQuaternion([x,y,z,w])\n",
    "#    V.setConfiguration(C)\n",
    "\n",
    "#\n",
    "# @interact(x=(-1, 1, 0.1), y = (-1, 1, 0.1), z = (-1, 1, 0.1), w = (-1, 1, 0.1))\n",
    "# def set_orientation(x, y, z, w):\n",
    "#    obj1.setQuaternion([x,y,z,w])\n",
    "#    V.setConfiguration(C)\n",
    "\n",
    "\n"
   ],
   "metadata": {
    "collapsed": false,
    "pycharm": {
     "name": "#%%\n"
    }
   }
  }
 ],
 "metadata": {
  "kernelspec": {
   "name": "pycharm-8b9e1f39",
   "language": "python",
   "display_name": "PyCharm (robotics-course)"
  },
  "language_info": {
   "codemirror_mode": {
    "name": "ipython",
    "version": 2
   },
   "file_extension": ".py",
   "mimetype": "text/x-python",
   "name": "python",
   "nbconvert_exporter": "python",
   "pygments_lexer": "ipython2",
   "version": "2.7.6"
  }
 },
 "nbformat": 4,
 "nbformat_minor": 0
}